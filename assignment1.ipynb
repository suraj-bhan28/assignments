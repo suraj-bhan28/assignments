{
 "cells": [
  {
   "cell_type": "code",
   "execution_count": 1,
   "id": "58d5da73-df0e-4905-b3d5-0b78876dc5a8",
   "metadata": {},
   "outputs": [
    {
     "name": "stdout",
     "output_type": "stream",
     "text": [
      "5\n",
      "<class 'int'>\n"
     ]
    }
   ],
   "source": [
    "a=5\n",
    "print(a)\n",
    "print(type(a))"
   ]
  },
  {
   "cell_type": "code",
   "execution_count": 2,
   "id": "0c634a40-9611-42f7-944b-feb555c52358",
   "metadata": {},
   "outputs": [
    {
     "name": "stdout",
     "output_type": "stream",
     "text": [
      "Ram\n",
      "<class 'str'>\n"
     ]
    }
   ],
   "source": [
    "name=\"Ram\"\n",
    "print(name)\n",
    "print(type(name))"
   ]
  },
  {
   "cell_type": "code",
   "execution_count": 3,
   "id": "99b9ceba-c652-4f0f-a467-41f2225cb1b3",
   "metadata": {},
   "outputs": [
    {
     "name": "stdout",
     "output_type": "stream",
     "text": [
      "56.4\n",
      "<class 'float'>\n"
     ]
    }
   ],
   "source": [
    "b=56.4\n",
    "print(b)\n",
    "print(type(b))"
   ]
  },
  {
   "cell_type": "code",
   "execution_count": 4,
   "id": "69c5f7f9-2b7c-49a7-a869-e61ca847ce5c",
   "metadata": {},
   "outputs": [
    {
     "name": "stdout",
     "output_type": "stream",
     "text": [
      "18\n"
     ]
    }
   ],
   "source": [
    "virat=18\n",
    "print(virat)"
   ]
  },
  {
   "cell_type": "code",
   "execution_count": 5,
   "id": "d1fe6404-1f43-4132-b0db-cfba00955f47",
   "metadata": {},
   "outputs": [
    {
     "name": "stdout",
     "output_type": "stream",
     "text": [
      "987\n"
     ]
    }
   ],
   "source": [
    "Roll_number=987\n",
    "print(Roll_number)"
   ]
  },
  {
   "cell_type": "code",
   "execution_count": null,
   "id": "64457b78-de0b-4e88-83e7-5d09598b8c24",
   "metadata": {},
   "outputs": [],
   "source": []
  }
 ],
 "metadata": {
  "kernelspec": {
   "display_name": "Python 3 (ipykernel)",
   "language": "python",
   "name": "python3"
  },
  "language_info": {
   "codemirror_mode": {
    "name": "ipython",
    "version": 3
   },
   "file_extension": ".py",
   "mimetype": "text/x-python",
   "name": "python",
   "nbconvert_exporter": "python",
   "pygments_lexer": "ipython3",
   "version": "3.12.7"
  }
 },
 "nbformat": 4,
 "nbformat_minor": 5
}
