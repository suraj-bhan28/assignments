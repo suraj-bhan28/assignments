{
 "cells": [
  {
   "cell_type": "markdown",
   "id": "89c8172a-ff2b-4b4b-9a7e-ff9f7ca9cd8f",
   "metadata": {},
   "source": [
    "Assignment :\n",
    "\n",
    "1) demonstrate the use of the following arithmetic operators in Python on any numbers:\n",
    "Addition, Subtraction, Multiplication, Division, Modulus, Exponentiation, Floor Division."
   ]
  },
  {
   "cell_type": "code",
   "execution_count": 1,
   "id": "41ea1306-179b-4403-a8ce-e5d680ab06a6",
   "metadata": {},
   "outputs": [
    {
     "name": "stdout",
     "output_type": "stream",
     "text": [
      "17\n",
      "7\n",
      "60\n",
      "2.4\n",
      "2\n",
      "248832\n",
      "2\n"
     ]
    }
   ],
   "source": [
    "a=12\n",
    "b=5\n",
    "print(a+b)\n",
    "print(a-b)\n",
    "print(a*b)\n",
    "print(a/b)\n",
    "print(a%b)\n",
    "print(a**b)\n",
    "print(a//b)"
   ]
  },
  {
   "cell_type": "markdown",
   "id": "5fa823d3-74ca-4e39-87e4-b195158d2745",
   "metadata": {},
   "source": [
    "2) Write Python expressions using comparison operators (less than, greater than, equa\n",
    "   l to, not equal to) and evaluate them. Include examples with both numbers and strings."
   ]
  },
  {
   "cell_type": "code",
   "execution_count": null,
   "id": "cca059cd-9cab-411d-bf84-34eba92159b8",
   "metadata": {},
   "outputs": [],
   "source": [
    "a=4\n",
    "b=6\n",
    "print(a<b)\n",
    "print(a>b)\n",
    "print(a==b)\n",
    "print(a!=b)\n"
   ]
  },
  {
   "cell_type": "code",
   "execution_count": 10,
   "id": "1574c991-0333-4fa4-82a7-5369761919e4",
   "metadata": {},
   "outputs": [
    {
     "name": "stdout",
     "output_type": "stream",
     "text": [
      "False\n",
      "True\n",
      "False\n",
      "15\n",
      "16\n"
     ]
    }
   ],
   "source": [
    "a=\"Ram is good boy\"\n",
    "b=\"Mohan is bad boy\"\n",
    "print(a==b)\n",
    "print(a>b)\n",
    "print(a<b)\n",
    "print(len(a))\n",
    "print(len(b))"
   ]
  },
  {
   "cell_type": "markdown",
   "id": "7504b0f6-1ce9-48db-90e7-c86df30a9f1d",
   "metadata": {},
   "source": [
    "3) Create a string variable and use the ' in ' and ' not in '\n",
    " keywords to check for the presence or absence of a substring within the string EX : \" Python Is Powerfull language\". & Print the results.\n",
    "   "
   ]
  },
  {
   "cell_type": "code",
   "execution_count": 3,
   "id": "73e9c131-69df-4060-a952-33038306ad37",
   "metadata": {},
   "outputs": [
    {
     "name": "stdout",
     "output_type": "stream",
     "text": [
      "Powerfull is present\n"
     ]
    }
   ],
   "source": [
    "txt=\"Python Is Powerfull language\"\n",
    "if \"Powerfull\" in txt:\n",
    "     print(\"Powerfull is present\")\n",
    "else:\n",
    "    print(\"Recheck\")"
   ]
  },
  {
   "cell_type": "code",
   "execution_count": 4,
   "id": "727e14c7-dd2c-41f6-a4ea-7c2992dfcc75",
   "metadata": {},
   "outputs": [
    {
     "name": "stdout",
     "output_type": "stream",
     "text": [
      "Recheck\n"
     ]
    }
   ],
   "source": [
    "txt=\"Python Is Powerfull language\"\n",
    "if \"Powerfull\" not in txt:\n",
    "     print(\"Powerfull is absent\")\n",
    "else:\n",
    "    print(\"Recheck\")"
   ]
  },
  {
   "cell_type": "markdown",
   "id": "2428a774-8dd0-4d37-a3fb-c5b1b380274f",
   "metadata": {},
   "source": [
    "4) Define a list with at least three elements. Use a for loop to print each element of the list.\n"
   ]
  },
  {
   "cell_type": "code",
   "execution_count": 11,
   "id": "7b8d62c4-201c-4e5a-a6c1-a3c61beec0b0",
   "metadata": {},
   "outputs": [
    {
     "name": "stdout",
     "output_type": "stream",
     "text": [
      "2\n",
      "3\n",
      "4\n",
      "5\n"
     ]
    }
   ],
   "source": [
    "list=[2,3,4,5]\n",
    "for i in list:\n",
    "    print(i)"
   ]
  },
  {
   "cell_type": "markdown",
   "id": "4ddb6073-704d-4719-9f11-cc00fc6997d5",
   "metadata": {},
   "source": [
    "5) Use the range() function to print numbers from 10 to 1 using a for loop"
   ]
  },
  {
   "cell_type": "code",
   "execution_count": 18,
   "id": "d06ee3dc-dc7c-416e-bd2e-19f8ae633163",
   "metadata": {},
   "outputs": [
    {
     "name": "stdout",
     "output_type": "stream",
     "text": [
      "10\n",
      "9\n",
      "8\n",
      "7\n",
      "6\n",
      "5\n",
      "4\n",
      "3\n",
      "2\n",
      "1\n"
     ]
    }
   ],
   "source": [
    "\n",
    "for i in range(10,0,-1):\n",
    "    print(i)\n",
    "  "
   ]
  },
  {
   "cell_type": "markdown",
   "id": "f0c41ee0-0b74-4cf1-ad8d-76c2e0d85b2c",
   "metadata": {},
   "source": [
    "6) Create a string variable and demonstrate the following string methods: slicing,\n",
    "   negative indexing, converting to uppercase converting to lowercase, stripping whitespace, replacing a substring, and splitting the string.\n"
   ]
  },
  {
   "cell_type": "code",
   "execution_count": 33,
   "id": "206b6207-2c52-4051-afca-7bc569b5302b",
   "metadata": {},
   "outputs": [
    {
     "name": "stdout",
     "output_type": "stream",
     "text": [
      "3\n"
     ]
    }
   ],
   "source": [
    "txt=\"  Work Is Worship  \"\n",
    "txt[0:7]\n",
    "txt[-10:-1]\n",
    "txt.upper()\n",
    "txt.lower()\n",
    "txt.strip()\n",
    "txt.replace(\"Worship\",\"God\")\n",
    "txt.split()\n"
   ]
  },
  {
   "cell_type": "markdown",
   "id": "7cc38dc4-57e6-4440-8f0f-2595159f13ea",
   "metadata": {},
   "source": [
    "7) Create a list inside list with at least five elements of different data types. Print the list."
   ]
  },
  {
   "cell_type": "code",
   "execution_count": 34,
   "id": "8dfa33eb-2084-4de8-befc-3ae41d56d136",
   "metadata": {},
   "outputs": [
    {
     "name": "stdout",
     "output_type": "stream",
     "text": [
      "[1, 2, ['a', 4, 5.4, 3, 'ab'], 'A']\n"
     ]
    }
   ],
   "source": [
    "l=[1,2,[\"a\",4,5.4,3,\"ab\"],\"A\"]\n",
    "print(l)"
   ]
  },
  {
   "cell_type": "markdown",
   "id": "17cffe87-0034-4eb6-9325-885d84975e2e",
   "metadata": {},
   "source": [
    "8) Access and print same item from the list using both positive and negative indexing."
   ]
  },
  {
   "cell_type": "code",
   "execution_count": 44,
   "id": "f1bb05dd-c2f2-4170-8a5e-3766c98062d1",
   "metadata": {},
   "outputs": [
    {
     "data": {
      "text/plain": [
       "[1, ['a', 4, 5.4, 3, 'ab']]"
      ]
     },
     "execution_count": 44,
     "metadata": {},
     "output_type": "execute_result"
    }
   ],
   "source": [
    "l=[1,2,[\"a\",4,5.4,3,\"ab\"],\"A\"]\n",
    "# print(l)\n",
    "# for i in l:\n",
    "#     print(i)\n",
    "l[0:5] \n",
    "l[2:4]\n",
    "l[-3:-1]\n",
    "l[0:5:2]"
   ]
  },
  {
   "cell_type": "markdown",
   "id": "91bb78c2-1f5b-4ce4-93a3-79687219b114",
   "metadata": {},
   "source": [
    "9) Modify elements of a list by using the append(), insert(), remove(), pop(), and del methods. Print the list after each operation."
   ]
  },
  {
   "cell_type": "code",
   "execution_count": 52,
   "id": "e1e70f45-e662-489f-bfe1-16a2c9a1586d",
   "metadata": {},
   "outputs": [
    {
     "name": "stdout",
     "output_type": "stream",
     "text": [
      "['Cricket', 'Bat', 'Ball', 'Stump', 'Helmet']\n",
      "['Cricket', 'Bat', 'Ball', 'Batsman', 'Stump', 'Helmet']\n",
      "['Cricket', 'Bat', 'Ball', 'Batsman', 'Stump', 'Helmet', 'Ground']\n",
      "['Bat', 'Ball', 'Batsman', 'Stump', 'Helmet', 'Ground']\n",
      "['Bat', 'Ball', 'Stump', 'Helmet', 'Ground']\n",
      "['Bat', 'Stump', 'Helmet', 'Ground']\n"
     ]
    }
   ],
   "source": [
    "list=[\"Cricket\",\"Bat\",\"Ball\",\"Stump\",\"Helmet\"]\n",
    "print(list)\n",
    "list.insert(3,\"Batsman\")\n",
    "print(list)\n",
    "list.append(\"Ground\")\n",
    "print(list)\n",
    "list.remove(\"Cricket\")\n",
    "print(list)\n",
    "list.pop(2)\n",
    "print(list)\n",
    "del list[1]\n",
    "print(list)"
   ]
  },
  {
   "cell_type": "markdown",
   "id": "dbd39839-a9cc-462c-b741-393f1661aa67",
   "metadata": {},
   "source": [
    "10) Join two lists and print the all item using for loop and also check is \"data\" present in list using\n",
    "11) \"if else\" statement. list_1 = [ 1,2,3,4,\"power\", True] and list_2= [\"one\", \"two\",\"Three\", \"Data\", False]\n"
   ]
  },
  {
   "cell_type": "code",
   "execution_count": 59,
   "id": "b5f5a7f5-027a-4fe4-bf4d-822210ac44b8",
   "metadata": {},
   "outputs": [
    {
     "name": "stdout",
     "output_type": "stream",
     "text": [
      "[1, 2, 3, 4, 'power', True, 'one', 'two', 'Three', 'Data', False]\n",
      "power is present\n"
     ]
    }
   ],
   "source": [
    "list_1 = [ 1,2,3,4,\"power\", True] \n",
    "list_2= [\"one\", \"two\",\"Three\", \"Data\", False]\n",
    "list=list_1+list_2\n",
    "print(list)\n",
    "if \"power\" in list:\n",
    "    print(\"power is present\")\n",
    "else:\n",
    "    print(\"Not Present\")"
   ]
  },
  {
   "cell_type": "code",
   "execution_count": null,
   "id": "7f73c0fc-b09f-466a-801f-0d903a591e32",
   "metadata": {},
   "outputs": [],
   "source": []
  }
 ],
 "metadata": {
  "kernelspec": {
   "display_name": "Python 3 (ipykernel)",
   "language": "python",
   "name": "python3"
  },
  "language_info": {
   "codemirror_mode": {
    "name": "ipython",
    "version": 3
   },
   "file_extension": ".py",
   "mimetype": "text/x-python",
   "name": "python",
   "nbconvert_exporter": "python",
   "pygments_lexer": "ipython3",
   "version": "3.12.7"
  }
 },
 "nbformat": 4,
 "nbformat_minor": 5
}
