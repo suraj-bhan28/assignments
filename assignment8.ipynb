{
 "cells": [
  {
   "cell_type": "raw",
   "id": "01beb757-4cdc-4dfb-86b9-5f1b4499bb72",
   "metadata": {},
   "source": [
    "A. Date Module Operations"
   ]
  },
  {
   "cell_type": "raw",
   "id": "0c83b5b2-a7b2-4a97-980a-8e388e09d0f0",
   "metadata": {},
   "source": [
    " 1. Display the current date and time."
   ]
  },
  {
   "cell_type": "code",
   "execution_count": 2,
   "id": "07948cd4-f7ea-45b7-9ea4-859bfc74d1b5",
   "metadata": {},
   "outputs": [
    {
     "name": "stdout",
     "output_type": "stream",
     "text": [
      "2025-04-20 18:55:41.064294\n"
     ]
    }
   ],
   "source": [
    "import datetime\n",
    "x=datetime.datetime.now()\n",
    "print(x)"
   ]
  },
  {
   "cell_type": "raw",
   "id": "a0aa3021-0076-49bc-844e-87aaaebccda9",
   "metadata": {},
   "source": [
    " 2. Create a date object for `July 4, 2022`, and print it.\n"
   ]
  },
  {
   "cell_type": "code",
   "execution_count": 3,
   "id": "7b0cf1e4-4fad-4841-9988-86c0b414bc68",
   "metadata": {},
   "outputs": [
    {
     "name": "stdout",
     "output_type": "stream",
     "text": [
      "2022-07-04 00:00:00\n"
     ]
    }
   ],
   "source": [
    "b_date=datetime.datetime(2022,7,4)\n",
    "print(b_date)"
   ]
  },
  {
   "cell_type": "raw",
   "id": "9d268471-234a-42d9-85b0-fcb3d033bc9b",
   "metadata": {},
   "source": [
    "\n",
    "3. Extract and display the name of the month from the date object `December 15, 2021`."
   ]
  },
  {
   "cell_type": "code",
   "execution_count": 4,
   "id": "099d2ee1-d3f8-4452-8947-1c73ee23d527",
   "metadata": {},
   "outputs": [
    {
     "data": {
      "text/plain": [
       "'December'"
      ]
     },
     "execution_count": 4,
     "metadata": {},
     "output_type": "execute_result"
    }
   ],
   "source": [
    "m_date=datetime.datetime(2021,12,15)\n",
    "m_date.strftime(\"%B\")\n"
   ]
  },
  {
   "cell_type": "raw",
   "id": "bedeeb20-aa09-4cdc-bec5-470bbabefd95",
   "metadata": {},
   "source": [
    "B. Mathematical Calculations with `math` Module\n",
    "\n",
    "\n",
    "     - Use the `math` module to:"
   ]
  },
  {
   "cell_type": "raw",
   "id": "d88141aa-7e03-4086-8fea-60928103b95e",
   "metadata": {},
   "source": [
    "\n",
    "1. Compute and print the square root of `81`.\n"
   ]
  },
  {
   "cell_type": "code",
   "execution_count": 6,
   "id": "ae59a2dc-49fc-4b54-899c-ad9c9a475d10",
   "metadata": {},
   "outputs": [
    {
     "name": "stdout",
     "output_type": "stream",
     "text": [
      "9.0\n"
     ]
    }
   ],
   "source": [
    "import math\n",
    "x=math.sqrt(81)\n",
    "print(x)"
   ]
  },
  {
   "cell_type": "raw",
   "id": "d7be7926-f765-40b4-b330-c0745506b600",
   "metadata": {},
   "source": [
    " 2. Find and display the ceiling and floor values of `8.3`."
   ]
  },
  {
   "cell_type": "code",
   "execution_count": 8,
   "id": "f55f9f39-e520-4df8-b82c-7552ac2ef68f",
   "metadata": {},
   "outputs": [
    {
     "name": "stdout",
     "output_type": "stream",
     "text": [
      "9\n",
      "8\n"
     ]
    }
   ],
   "source": [
    "x=math.ceil(8.3)\n",
    "y=math.floor(8.3)\n",
    "print(x)\n",
    "print(y)"
   ]
  },
  {
   "cell_type": "raw",
   "id": "144207a4-a470-4efc-b8f5-1c6f855e3a2d",
   "metadata": {},
   "source": [
    "  3. Calculate and print `2` raised to the power of `5`.\n"
   ]
  },
  {
   "cell_type": "code",
   "execution_count": 9,
   "id": "f32661b7-9d41-4519-a8a4-05ea1dd1e161",
   "metadata": {},
   "outputs": [
    {
     "name": "stdout",
     "output_type": "stream",
     "text": [
      "32.0\n"
     ]
    }
   ],
   "source": [
    "z=math.pow(2,5)\n",
    "print(z)"
   ]
  },
  {
   "cell_type": "raw",
   "id": "15a21285-58ff-4050-93f8-25edd10a4a98",
   "metadata": {},
   "source": [
    "4. Print the value of π (pi) from the `math` module.\n"
   ]
  },
  {
   "cell_type": "code",
   "execution_count": 11,
   "id": "b60f8401-7e01-48c9-b71e-6dfeb25f0a57",
   "metadata": {},
   "outputs": [
    {
     "name": "stdout",
     "output_type": "stream",
     "text": [
      "3.141592653589793\n"
     ]
    }
   ],
   "source": [
    "pi=math.pi\n",
    "print(pi)"
   ]
  },
  {
   "cell_type": "raw",
   "id": "87eb4466-46dc-4648-9764-dd82423ed2e8",
   "metadata": {},
   "source": [
    "C.Polymorphism in Built-in and Custom Classes\n",
    "\n",
    "\n",
    "    - Demonstrate polymorphism by:\n"
   ]
  },
  {
   "cell_type": "raw",
   "id": "994b98bb-7ef0-4cdd-8a8d-5e65de960906",
   "metadata": {},
   "source": [
    "\n",
    "      1. Using the `len()` function on a string (`\"Python\"`), a tuple (`(1, 2, 3)`), and a dictionary (`{\"name\": \"John\", \"age\": 30}`) and print their lengths.\n"
   ]
  },
  {
   "cell_type": "code",
   "execution_count": 12,
   "id": "c8b47974-9380-4d41-8cea-b6607259427a",
   "metadata": {},
   "outputs": [
    {
     "data": {
      "text/plain": [
       "6"
      ]
     },
     "execution_count": 12,
     "metadata": {},
     "output_type": "execute_result"
    }
   ],
   "source": [
    "a=\"python\"\n",
    "len(a)"
   ]
  },
  {
   "cell_type": "code",
   "execution_count": 13,
   "id": "4e444154-e25f-45cc-b2d9-85c7ee02cae8",
   "metadata": {},
   "outputs": [
    {
     "data": {
      "text/plain": [
       "7"
      ]
     },
     "execution_count": 13,
     "metadata": {},
     "output_type": "execute_result"
    }
   ],
   "source": [
    "b=('(1,2,3)')\n",
    "len(b)"
   ]
  },
  {
   "cell_type": "code",
   "execution_count": 16,
   "id": "55234010-eabe-4753-97ad-9ff8112588a8",
   "metadata": {},
   "outputs": [
    {
     "data": {
      "text/plain": [
       "2"
      ]
     },
     "execution_count": 16,
     "metadata": {},
     "output_type": "execute_result"
    }
   ],
   "source": [
    "c= {\"name\": \"John\", \"age\": 30}\n",
    "len(c)\n",
    "    "
   ]
  },
  {
   "cell_type": "raw",
   "id": "ed5f4d26-590e-4d97-abc6-48ea0b309902",
   "metadata": {},
   "source": [
    "\n",
    "2. Define three classes: `Dog`, `Cat`, and `Bird`. Each class should have a `speak` method that prints a unique sound. Create an instance of each class and use a loop to call their `speak` methods.\n"
   ]
  },
  {
   "cell_type": "code",
   "execution_count": 17,
   "id": "a8ddf206-871f-463e-97db-e9dffce48366",
   "metadata": {},
   "outputs": [
    {
     "name": "stdout",
     "output_type": "stream",
     "text": [
      "Woof! Woof!\n",
      "Meow! Meow!\n",
      "Chirp! Chirp!\n"
     ]
    }
   ],
   "source": [
    "# Defining the classes\n",
    "class Dog:\n",
    "    def speak(self):\n",
    "        print(\"Woof! Woof!\")\n",
    "\n",
    "class Cat:\n",
    "    def speak(self):\n",
    "        print(\"Meow! Meow!\")\n",
    "\n",
    "class Bird:\n",
    "    def speak(self):\n",
    "        print(\"Chirp! Chirp!\")\n",
    "\n",
    "# Creating instances\n",
    "animals = [Dog(), Cat(), Bird()]\n",
    "\n",
    "# Calling their speak methods using a loop\n",
    "for animal in animals:\n",
    "    animal.speak()\n"
   ]
  },
  {
   "cell_type": "raw",
   "id": "294e9f84-9fea-4b85-bf6f-38ad75c6a144",
   "metadata": {},
   "source": [
    "D. File Handling: Creation, Reading, and Appending\n",
    "\n"
   ]
  },
  {
   "cell_type": "raw",
   "id": "c3bd5db8-0624-46fc-9808-aa6453049fdc",
   "metadata": {},
   "source": [
    "  1. Create a file named `notes.txt` and write `\"First Line\"` into it.\n"
   ]
  },
  {
   "cell_type": "code",
   "execution_count": 27,
   "id": "ef936421-3b61-40d5-85d8-af482e7f4048",
   "metadata": {},
   "outputs": [],
   "source": [
    "f=open(\"notes.txt\",\"x\")\n",
    "f.write(\" First line\")\n",
    "f.close()"
   ]
  },
  {
   "cell_type": "raw",
   "id": "e229ded7-d2f9-44b8-863b-b5cfcbbeca07",
   "metadata": {},
   "source": [
    "\n",
    "      2. Open `notes.txt` and read its contents. Print the content to the console.\n"
   ]
  },
  {
   "cell_type": "code",
   "execution_count": 28,
   "id": "b25bd145-5088-4bbb-b4a1-b705c4c8c4bd",
   "metadata": {},
   "outputs": [
    {
     "name": "stdout",
     "output_type": "stream",
     "text": [
      " First line\n"
     ]
    }
   ],
   "source": [
    "f=open(\"notes.txt\",\"r\")\n",
    "print(f.read())\n",
    "f.close()"
   ]
  },
  {
   "cell_type": "raw",
   "id": "08b9d706-93bb-4180-b8f1-efe1a5568133",
   "metadata": {},
   "source": [
    "\n",
    "      3. Append `\"Second Line\"` to `notes.txt`.\n"
   ]
  },
  {
   "cell_type": "code",
   "execution_count": 29,
   "id": "34a5a981-89a1-417f-9378-9e5acf76f718",
   "metadata": {},
   "outputs": [],
   "source": [
    "f=open(\"notes.txt\",\"a\")\n",
    "f.write(\". Second line\")\n",
    "f.close()"
   ]
  },
  {
   "cell_type": "raw",
   "id": "33f870dc-6d64-468a-8611-ec647f0ec43c",
   "metadata": {},
   "source": [
    "    4. Open and read the updated contents of `notes.txt`, and print the results.\n",
    "\n"
   ]
  },
  {
   "cell_type": "code",
   "execution_count": 30,
   "id": "e311d1b0-9b39-47a4-ac59-3e4e05b4a61c",
   "metadata": {},
   "outputs": [
    {
     "name": "stdout",
     "output_type": "stream",
     "text": [
      " First line. Second line\n"
     ]
    }
   ],
   "source": [
    "f=open(\"notes.txt\",\"r\")\n",
    "print(f.read())\n",
    "f.close()"
   ]
  },
  {
   "cell_type": "raw",
   "id": "334b648e-02ea-46f3-8e6a-025153dc0f6d",
   "metadata": {},
   "source": [
    "E. File Handling: Checking Existence and Deleting\n"
   ]
  },
  {
   "cell_type": "code",
   "execution_count": null,
   "id": "5319fb9b-741b-4211-be37-cbd0b92678ef",
   "metadata": {},
   "outputs": [],
   "source": [
    "  1. Check if a file named `testfile.txt` exists in the current directory. \n",
    "If it does, delete the file and print `\"File deleted.\"`."
   ]
  },
  {
   "cell_type": "code",
   "execution_count": 33,
   "id": "333ef26b-4287-46c8-b356-97db4e1cdb5c",
   "metadata": {},
   "outputs": [],
   "source": [
    "import os\n",
    "file_name = \"testfile.txt\"\n",
    "# Check if the file exists\n",
    "if os.path.exists(file_name):\n",
    "    os.remove(file_name)  # Delete the file\n",
    "    print(\"File deleted.\")\n"
   ]
  },
  {
   "cell_type": "raw",
   "id": "9225c637-fb6e-408f-a010-f0fa49259aff",
   "metadata": {},
   "source": [
    "\n",
    "      2. If `testfile.txt` does not exist, print `\"File does not exist.\"`."
   ]
  },
  {
   "cell_type": "code",
   "execution_count": 32,
   "id": "a079056f-38a3-4552-abf5-4c34115b28e1",
   "metadata": {},
   "outputs": [
    {
     "name": "stdout",
     "output_type": "stream",
     "text": [
      "File not found.\n"
     ]
    }
   ],
   "source": [
    "import os\n",
    "file_name = \"testfile.txt\"\n",
    "# Check if the file exists\n",
    "if os.path.exists(file_name):\n",
    "    os.remove(file_name)  # Delete the file\n",
    "    print(\"File deleted.\")\n",
    "\n",
    "else:\n",
    "    print(\"File not found.\")"
   ]
  },
  {
   "cell_type": "code",
   "execution_count": null,
   "id": "e51a9678-82f5-49d7-a2e1-2ab5b43fff50",
   "metadata": {},
   "outputs": [],
   "source": []
  }
 ],
 "metadata": {
  "kernelspec": {
   "display_name": "Python 3 (ipykernel)",
   "language": "python",
   "name": "python3"
  },
  "language_info": {
   "codemirror_mode": {
    "name": "ipython",
    "version": 3
   },
   "file_extension": ".py",
   "mimetype": "text/x-python",
   "name": "python",
   "nbconvert_exporter": "python",
   "pygments_lexer": "ipython3",
   "version": "3.12.7"
  }
 },
 "nbformat": 4,
 "nbformat_minor": 5
}
