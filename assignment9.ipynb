{
 "cells": [
  {
   "cell_type": "markdown",
   "id": "9eee90f9-021e-46d7-a5c8-0b336291bd4c",
   "metadata": {},
   "source": [
    "# Assignments "
   ]
  },
  {
   "cell_type": "raw",
   "id": "deb82862-7f08-406c-9473-43ab0c96a14b",
   "metadata": {},
   "source": [
    "\n",
    "1) Write a Python program that attempts to divide a number by zero within a try block. Catch the resulting ZeroDivisionError and print a custom message.\n"
   ]
  },
  {
   "cell_type": "code",
   "execution_count": 1,
   "id": "33cd0213-9441-417b-832f-329a68a5a27e",
   "metadata": {},
   "outputs": [
    {
     "name": "stdout",
     "output_type": "stream",
     "text": [
      "Error: Division by zero is not allowed!\n"
     ]
    }
   ],
   "source": [
    "try:\n",
    "    y=10/0\n",
    "    print(y)\n",
    "except ZeroDivisionError:\n",
    "    print(\"Error: Division by zero is not allowed!\")"
   ]
  },
  {
   "cell_type": "raw",
   "id": "ea588869-44ad-4676-9880-12dba7c0c4b5",
   "metadata": {},
   "source": [
    "2) Write a Python program that attempts to print an undefined variable within a try block. Catch the resulting NameError and print \"Variable is not defined\".\n"
   ]
  },
  {
   "cell_type": "code",
   "execution_count": 2,
   "id": "f1760878-05eb-475d-84ad-74807e563b0d",
   "metadata": {},
   "outputs": [
    {
     "name": "stdout",
     "output_type": "stream",
     "text": [
      "Variable X is not defined\n"
     ]
    }
   ],
   "source": [
    "try:\n",
    "    print(x)\n",
    "except NameError:\n",
    "    print(\"Variable X is not defined\")"
   ]
  },
  {
   "cell_type": "raw",
   "id": "580368c9-ee1e-4823-8996-c62fbe18d580",
   "metadata": {},
   "source": [
    "3) Write a Python program that attempts to open a non-existent file. Catch the resulting FileNotFoundError, print an error message, and ensure that a finally block prints \"Operation finished\" regardless of the outcome.\n"
   ]
  },
  {
   "cell_type": "code",
   "execution_count": 9,
   "id": "edcdb563-739f-4080-a316-de8c072e35e0",
   "metadata": {},
   "outputs": [
    {
     "name": "stdout",
     "output_type": "stream",
     "text": [
      "The Given file does not exist\n",
      "Operation Finished\n"
     ]
    }
   ],
   "source": [
    "try:\n",
    "    f=open(\"demo.txt\",\"r\")\n",
    "    print(f.read())\n",
    "except FileNotFoundError:\n",
    "    print(\"The Given file does not exist\")\n",
    "finally:\n",
    "    print(\"Operation Finished\")"
   ]
  },
  {
   "cell_type": "raw",
   "id": "1e0ef0a7-aff0-4c7c-863b-80b7005f789f",
   "metadata": {},
   "source": [
    "4) Write a Python program that uses a try block to check if a number is positive. If the number is positive, use the else block to print \"The number is positive\". Catch any exceptions that occur during the check.\n"
   ]
  },
  {
   "cell_type": "code",
   "execution_count": 21,
   "id": "10672e7d-8bc8-4e14-b5bc-044af0a551a1",
   "metadata": {},
   "outputs": [
    {
     "name": "stdin",
     "output_type": "stream",
     "text": [
      "Enter any number: abc\n"
     ]
    },
    {
     "name": "stdout",
     "output_type": "stream",
     "text": [
      "Error: please enter valid integer!\n"
     ]
    }
   ],
   "source": [
    "try:\n",
    "    n=int(input(\"Enter any number:\"))\n",
    "    if n > 0:\n",
    "        print(\"The number is positive\")\n",
    "except ValueError:\n",
    "    print(\"Error: please enter valid integer!\")\n",
    "except Exception as e:\n",
    "    print(f\"An unexpected error occurred: {e}\")     \n",
    "        \n",
    "        "
   ]
  },
  {
   "cell_type": "raw",
   "id": "16c673cd-ab63-4c54-b9e9-eb4ff99b1499",
   "metadata": {},
   "source": [
    "5) Write a Python program that raises a ValueError if a variable age is set to a negative number. Include a custom error message that states \"Age cannot be negative\"."
   ]
  },
  {
   "cell_type": "code",
   "execution_count": 23,
   "id": "6adb39bf-6c1e-4a02-ab96-975b61065e74",
   "metadata": {},
   "outputs": [
    {
     "name": "stdin",
     "output_type": "stream",
     "text": [
      "Enter your age: 6\n"
     ]
    },
    {
     "name": "stdout",
     "output_type": "stream",
     "text": [
      "Valid age: 6\n"
     ]
    }
   ],
   "source": [
    "def check_age(age):\n",
    "    if age <0:\n",
    "        raise ValueError(\"Age can not be negative\")\n",
    "    print(f\"Valid age: {age}\")\n",
    "try:\n",
    "    age=int(input(\"Enter your age:\"))\n",
    "    check_age(age)\n",
    "except ValueError as e:\n",
    "    print(f\"Error: {e}\")"
   ]
  },
  {
   "cell_type": "code",
   "execution_count": null,
   "id": "e85f1945-3c3f-456b-8bc3-35f27fad5628",
   "metadata": {},
   "outputs": [],
   "source": []
  }
 ],
 "metadata": {
  "kernelspec": {
   "display_name": "Python 3 (ipykernel)",
   "language": "python",
   "name": "python3"
  },
  "language_info": {
   "codemirror_mode": {
    "name": "ipython",
    "version": 3
   },
   "file_extension": ".py",
   "mimetype": "text/x-python",
   "name": "python",
   "nbconvert_exporter": "python",
   "pygments_lexer": "ipython3",
   "version": "3.12.7"
  }
 },
 "nbformat": 4,
 "nbformat_minor": 5
}
