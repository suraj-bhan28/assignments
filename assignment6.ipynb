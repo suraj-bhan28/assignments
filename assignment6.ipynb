{
 "cells": [
  {
   "cell_type": "raw",
   "id": "de420c14-8b91-4bad-98da-63da5ed81200",
   "metadata": {},
   "source": [
    "1) Write a lambda function to calculate the square of a number. Use it to print the square of 8."
   ]
  },
  {
   "cell_type": "code",
   "execution_count": 1,
   "id": "49b93629-8590-4fdc-aa26-9fcced54dd86",
   "metadata": {},
   "outputs": [
    {
     "name": "stdout",
     "output_type": "stream",
     "text": [
      "64\n"
     ]
    }
   ],
   "source": [
    "x=lambda a:a**2\n",
    "print(x(8))"
   ]
  },
  {
   "cell_type": "raw",
   "id": "b234e120-12db-4a37-b458-d0d9eb43f028",
   "metadata": {},
   "source": [
    "2) Create a lambda function to multiply three arguments. Use it to multiply 3, 4, and 5, then print the result."
   ]
  },
  {
   "cell_type": "code",
   "execution_count": 2,
   "id": "515b11a0-d7f9-4b50-8539-004a36b52270",
   "metadata": {},
   "outputs": [
    {
     "name": "stdout",
     "output_type": "stream",
     "text": [
      "60\n"
     ]
    }
   ],
   "source": [
    "y=lambda a,b,c:a*b*c\n",
    "print(y(3,4,5))"
   ]
  },
  {
   "cell_type": "raw",
   "id": "0612e86e-d98e-431d-bdca-ee84890c2bf7",
   "metadata": {},
   "source": [
    "3) Write a lambda function to find the maximum of two numbers. Use it to find the maximum between 10 and 20 and print the result."
   ]
  },
  {
   "cell_type": "code",
   "execution_count": 3,
   "id": "0e2e8f70-7846-4df4-96ae-bfd7224505cf",
   "metadata": {},
   "outputs": [
    {
     "name": "stdout",
     "output_type": "stream",
     "text": [
      "6\n"
     ]
    }
   ],
   "source": [
    "m=lambda a,b:a if a>b else b\n",
    "print(m(5,6))"
   ]
  },
  {
   "cell_type": "raw",
   "id": "3a1efe80-ef62-4917-ab2f-5ed897b8bf10",
   "metadata": {},
   "source": [
    "4) Create a list of integers and use a lambda function with the filter method to filter out even numbers. Print the resulting list."
   ]
  },
  {
   "cell_type": "code",
   "execution_count": 4,
   "id": "542ed7f4-0551-4625-9d4d-1a614a3a72bc",
   "metadata": {},
   "outputs": [
    {
     "name": "stdout",
     "output_type": "stream",
     "text": [
      "[4, 2, 6, 8]\n"
     ]
    }
   ],
   "source": [
    "l=[4,5,3,2,6,8,7,9]\n",
    "even=list(filter(lambda x:x%2==0,l))\n",
    "print(even)\n"
   ]
  },
  {
   "cell_type": "raw",
   "id": "3470bf5d-eaea-4fd5-92ea-93aa9391d478",
   "metadata": {},
   "source": [
    "5) Create a class named Animal with an __init__ method that initializes species and name. Instantiate an object of this class with species \"Dog\" and name \"Buddy\", then print the species and name.\n"
   ]
  },
  {
   "cell_type": "code",
   "execution_count": 10,
   "id": "aed62f54-edb7-4fe4-ab23-70f9df310eee",
   "metadata": {},
   "outputs": [
    {
     "name": "stdout",
     "output_type": "stream",
     "text": [
      "Species:Dog,Name:Buddy\n",
      "None\n"
     ]
    }
   ],
   "source": [
    "class Animal:\n",
    "    def __init__(self,species,name):\n",
    "        self.species=species\n",
    "        self.name=name\n",
    "    def display(self):\n",
    "        print(f\"Species:{self.species},Name:{self.name}\")\n",
    "p1=Animal(\"Dog\",\"Buddy\")\n",
    "# print(p1.species)\n",
    "# print(p1.name)\n",
    "print(p1.display())\n",
    "    "
   ]
  },
  {
   "cell_type": "raw",
   "id": "46f85c3f-1c33-415a-977b-dbd77f78688c",
   "metadata": {},
   "source": [
    "6) Create a class named Car with attributes for brand, model, and year. Add a method car_info that prints a formatted string with this information. Create an instance of the Car class and call the car_info method."
   ]
  },
  {
   "cell_type": "raw",
   "id": "5e7c261a-389f-4fe0-b263-36638f4f8e35",
   "metadata": {},
   "source": []
  },
  {
   "cell_type": "code",
   "execution_count": 35,
   "id": "c10468a3-7ee9-4fdf-a849-da63eccd113c",
   "metadata": {},
   "outputs": [
    {
     "name": "stdout",
     "output_type": "stream",
     "text": [
      "Brand:Mahindra,Model:XUV,year:2025\n"
     ]
    }
   ],
   "source": [
    "class Car:\n",
    "    def __init__(self,brand,model,year):\n",
    "        self.brand=brand\n",
    "        self.model=model\n",
    "        self.year=year\n",
    "    def car_info(self):\n",
    "        print(f\"Brand:{self.brand},Model:{self.model},year:{self.year}\")\n",
    "p2 = Car(\"Mahindra\", \"XUV\", 2025)\n",
    "p2.car_info()\n"
   ]
  },
  {
   "cell_type": "raw",
   "id": "89bb3915-8e9d-4434-89a8-dc091551de03",
   "metadata": {},
   "source": [
    "\n",
    "7) Create a class named Person with an __init__ method and a method introduce that prints a greeting including the person's name. Instantiate an object with the name \"Alice\" and call the introduce method.\n",
    "\n"
   ]
  },
  {
   "cell_type": "code",
   "execution_count": 41,
   "id": "37a39bc2-b2ce-453d-9811-2decca6cf66a",
   "metadata": {},
   "outputs": [
    {
     "name": "stdout",
     "output_type": "stream",
     "text": [
      "Good Morning Alice\n"
     ]
    }
   ],
   "source": [
    "class Person:\n",
    "    def __init__(self,name):\n",
    "        self.name=name\n",
    "    def greeting(self):\n",
    "        print(f\"Good Morning {self.name}\")\n",
    "\n",
    "p2 = Person(\"Alice\")\n",
    "p2.greeting()\n"
   ]
  },
  {
   "cell_type": "raw",
   "id": "43fc4819-f794-4a71-abaf-e4c60c19c2b2",
   "metadata": {},
   "source": [
    "8) Create a class named Student with attributes for name and grades (a list of grades). Add a method average_grade that returns the average of the grades. Create an instance of the Student class, add some grades, and print the average grade."
   ]
  },
  {
   "cell_type": "code",
   "execution_count": 11,
   "id": "c837c654-71f7-405b-9cc2-7bcb1559ee5f",
   "metadata": {},
   "outputs": [
    {
     "name": "stdout",
     "output_type": "stream",
     "text": [
      "Jhon's average grade is : 84.33\n"
     ]
    }
   ],
   "source": [
    "class Student:\n",
    "    def __init__(self,name,grades=None):\n",
    "        self.name=name\n",
    "        self.grades=grades if grades is not None else []\n",
    "    def add_grades(self,grade):\n",
    "        self.grades.append(grade)\n",
    "    def average_grade(self):\n",
    "        if not self.grades:\n",
    "            return 0\n",
    "        return sum(self.grades) / len(self.grades)\n",
    "\n",
    "student1=Student(\"Jhon\")\n",
    "student1.add_grades(85)\n",
    "student1.add_grades(90)\n",
    "student1.add_grades(78)\n",
    "\n",
    "print(f\"{student1.name}'s average grade is : {student1.average_grade():.2f}\")\n",
    "                   \n",
    "        "
   ]
  },
  {
   "cell_type": "raw",
   "id": "196aec5c-31ae-4eb2-b235-6444780e55d0",
   "metadata": {},
   "source": [
    "9) Create a class named Book with attributes for title, author, and year_published. Add a method book_age that calculates how old the book is from the current year. Create an instance of the Book class and print the age of the book.\n"
   ]
  },
  {
   "cell_type": "code",
   "execution_count": 17,
   "id": "db99334d-eb5c-4735-8a10-618dea5aaa4e",
   "metadata": {},
   "outputs": [
    {
     "name": "stdout",
     "output_type": "stream",
     "text": [
      "Akhiri Kitab written by Pushkar raj Thakur is 9 years old \n"
     ]
    }
   ],
   "source": [
    "class Book:\n",
    "    def __init__(self,title,author,year_published):\n",
    "        self.title=title\n",
    "        self.author=author\n",
    "        self.year_published=year_published\n",
    "    def book_age(self,current_year):\n",
    "       return current_year - self.year_published\n",
    "book1=Book(\"Akhiri Kitab\",\"Pushkar raj Thakur\",2016)\n",
    "\n",
    "print(f\"{book1.title} written by {book1.author} is {book1.book_age(2025)} years old \")"
   ]
  },
  {
   "cell_type": "raw",
   "id": "308a9c8a-b2db-43d9-8503-e0ef042619b7",
   "metadata": {},
   "source": [
    "10) Write a BankAccount class with attributes for owner and balance. Add methods for deposit and withdraw. Create an instance and perform some deposits and withdrawals, then print the final balance."
   ]
  },
  {
   "cell_type": "code",
   "execution_count": 18,
   "id": "340bfc05-3527-4842-87ab-1126b0da6b0e",
   "metadata": {},
   "outputs": [
    {
     "name": "stdout",
     "output_type": "stream",
     "text": [
      "Deposited 200. New balance: 700\n",
      "Withdrawn 150. New balance: 550\n",
      "Insufficient funds or invalid amount.\n",
      "Final balance for Alice: 550\n"
     ]
    }
   ],
   "source": [
    "class BankAccount:\n",
    "    def __init__(self, owner, balance=0):\n",
    "        self.owner = owner\n",
    "        self.balance = balance\n",
    "\n",
    "    def deposit(self, amount):\n",
    "        if amount > 0:\n",
    "            self.balance += amount\n",
    "            print(f\"Deposited {amount}. New balance: {self.balance}\")\n",
    "        else:\n",
    "            print(\"Deposit amount must be positive.\")\n",
    "\n",
    "    def withdraw(self, amount):\n",
    "        if 0 < amount <= self.balance:\n",
    "            self.balance -= amount\n",
    "            print(f\"Withdrawn {amount}. New balance: {self.balance}\")\n",
    "        else:\n",
    "            print(\"Insufficient funds or invalid amount.\")\n",
    "\n",
    "\n",
    "account1 = BankAccount(\"Alice\", 500)\n",
    "\n",
    "account1.deposit(200)\n",
    "account1.withdraw(150)\n",
    "account1.withdraw(600) \n",
    "\n",
    "print(f\"Final balance for {account1.owner}: {account1.balance}\")\n"
   ]
  },
  {
   "cell_type": "raw",
   "id": "e9926069-76be-49cf-8a23-09b57839cfcc",
   "metadata": {},
   "source": [
    "11) Create a Calculator class with methods for addition, subtraction, multiplication, and division. Use this class to perform a series of calculations and print the results."
   ]
  },
  {
   "cell_type": "code",
   "execution_count": 29,
   "id": "d8a34e5f-cfa2-4540-b67e-f14065446c6e",
   "metadata": {},
   "outputs": [
    {
     "data": {
      "text/plain": [
       "0.5"
      ]
     },
     "execution_count": 29,
     "metadata": {},
     "output_type": "execute_result"
    }
   ],
   "source": [
    "class Calculator:\n",
    "    \n",
    "    def __init__(self):\n",
    "        pass\n",
    "    def add(self,num1,num2):\n",
    "        return num1 + num2\n",
    "    \n",
    "    def sub(self,num1,num2):\n",
    "        return num1 - num2\n",
    "    \n",
    "    def multiply(self,num1,num2):        \n",
    "        return num1 * num2\n",
    "    \n",
    "    def devide(self,num1,num2):\n",
    "        return num1 / num2\n",
    "    \n",
    "    \n",
    "c1=Calculator()\n",
    "c1.add(10,20)\n",
    "c1.sub(20,12)\n",
    "c1.multiply(10,20)\n",
    "c1.devide(10,20)"
   ]
  },
  {
   "cell_type": "code",
   "execution_count": null,
   "id": "74ffbddb-2294-4a22-aa99-d037171f988b",
   "metadata": {},
   "outputs": [],
   "source": []
  }
 ],
 "metadata": {
  "kernelspec": {
   "display_name": "Python 3 (ipykernel)",
   "language": "python",
   "name": "python3"
  },
  "language_info": {
   "codemirror_mode": {
    "name": "ipython",
    "version": 3
   },
   "file_extension": ".py",
   "mimetype": "text/x-python",
   "name": "python",
   "nbconvert_exporter": "python",
   "pygments_lexer": "ipython3",
   "version": "3.12.7"
  }
 },
 "nbformat": 4,
 "nbformat_minor": 5
}
