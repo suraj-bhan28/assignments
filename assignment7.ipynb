{
 "cells": [
  {
   "cell_type": "raw",
   "id": "2302c94c-ae67-4d3c-bddd-c1e75a6613f6",
   "metadata": {},
   "source": [
    "1.) Create a base class `Animal` with attributes `name` and `species`, and a method `describe` to print them. Create a derived class `Dog` with an additional attribute `breed` and a method `bark` to print \"Woof! Woof!\". Instantiate a `Dog` object and call its methods.\n"
   ]
  },
  {
   "cell_type": "code",
   "execution_count": 5,
   "id": "ed5d076e-f1d3-4029-8c86-abbfe2eb2865",
   "metadata": {},
   "outputs": [
    {
     "name": "stdout",
     "output_type": "stream",
     "text": [
      "Name:Monti,Species:Desi\n",
      "Bredd:bull terrier\n",
      "Woof! Woof!\n"
     ]
    }
   ],
   "source": [
    "class Animal:\n",
    "    def __init__(self,name,species):\n",
    "        self.name=name\n",
    "        self.species=species\n",
    "    def describe(self):\n",
    "        print(f\"Name:{self.name},Species:{self.species}\")\n",
    "class Dog(Animal):\n",
    "    def __init__(self,name,species,breed):\n",
    "       super().__init__(name,species)\n",
    "       self.breed=breed\n",
    "\n",
    "    def bark(self):\n",
    "       print(\"Woof! Woof!\")\n",
    "d=Dog(\"Monti\",\"Desi\",\"bull terrier\")\n",
    "d.describe()\n",
    "print(f\"Bredd:{d.breed}\")\n",
    "d.bark()\n"
   ]
  },
  {
   "cell_type": "raw",
   "id": "9551ec66-5e5b-4db4-9aec-49993377da06",
   "metadata": {},
   "source": [
    "2. ) Define a class `Person` with attributes `first_name` and `last_name`, and a method `print_name`. Create a derived class `Employee` with an additional attribute `employee_id`. Use the `super()` method to initialize the inherited attributes. Add a method `print_employee_info`. Instantiate an `Employee` object and call its methods.\n"
   ]
  },
  {
   "cell_type": "code",
   "execution_count": 11,
   "id": "b9a71166-40b9-427c-b7c2-ddc26c1a5def",
   "metadata": {},
   "outputs": [
    {
     "name": "stdout",
     "output_type": "stream",
     "text": [
      "employee_id :555\n",
      "Name:Raja Thakur\n"
     ]
    }
   ],
   "source": [
    "class Person:\n",
    "    def __init__(self,f_name,l_name):\n",
    "        self.f_name=f_name\n",
    "        self.l_name=l_name\n",
    "    def print_name(self):\n",
    "        print(f\"Name:{self.f_name} {self.l_name}\")\n",
    "class Employee(Person):\n",
    "    def __init__(self,f_name,l_name,employee_id):\n",
    "        super().__init__(f_name,l_name)\n",
    "        self.employee_id=employee_id\n",
    "\n",
    "    def print_employee_info(self):\n",
    "        print(f\"employee_id :{self.employee_id}\")\n",
    "        self.print_name()\n",
    "e=Employee(\"Raja\",\"Thakur\",555)\n",
    "e.print_employee_info()\n",
    "        \n",
    "        "
   ]
  },
  {
   "cell_type": "raw",
   "id": "021dd25d-19b2-4dd9-a4cc-f1a8863cd7a2",
   "metadata": {},
   "source": [
    "3. ) Define a class `Shape` with a method `area` returning 0. Create derived classes `Circle` and `Rectangle`, overriding the `area` method to return the actual area. Instantiate objects of `Circle` and `Rectangle` and print their areas.\n"
   ]
  },
  {
   "cell_type": "code",
   "execution_count": 20,
   "id": "cfca0b8d-9629-4ef7-93f1-d45166422e7b",
   "metadata": {},
   "outputs": [
    {
     "name": "stdout",
     "output_type": "stream",
     "text": [
      "Circle arae:31.42\n",
      "rectangle area:20.00\n"
     ]
    }
   ],
   "source": [
    "import math\n",
    "class Shape:\n",
    "    def area(self):\n",
    "     return 0\n",
    "class Circle(Shape):\n",
    "    def __init__(self,radius):\n",
    "       self.radius=radius\n",
    "        \n",
    "    def area(self):\n",
    "     return math.pi*self.radius*2\n",
    "\n",
    "class Rectangle(Shape):\n",
    "    def __init__(self,length,width):\n",
    "        self.length=length\n",
    "        self.width=width\n",
    "        \n",
    "    def area(self):\n",
    "     return self.length*self.width\n",
    "\n",
    "\n",
    "circle=Circle(5)\n",
    "rectangle=Rectangle(4,5)\n",
    "print(f\"Circle arae:{circle.area():.2f}\")\n",
    "print(f\"rectangle area:{rectangle.area():.2f}\")\n",
    "\n"
   ]
  },
  {
   "cell_type": "raw",
   "id": "e111bbda-d5aa-43d7-bcf1-1449f8319884",
   "metadata": {},
   "source": [
    "\n",
    "4.)Create base classes `Flying` with a method `fly` and `Swimming` with a method `swim`. Create a derived class `Duck` inheriting from both, with an additional method `quack`. Instantiate a `Duck` object and call all its methods.\n"
   ]
  },
  {
   "cell_type": "code",
   "execution_count": 21,
   "id": "edd07d6a-a2ca-49f2-954c-43bb3c8f2f5f",
   "metadata": {},
   "outputs": [
    {
     "name": "stdout",
     "output_type": "stream",
     "text": [
      "I can fly high in the sky!\n",
      "I can swim effortlessly in the water!\n",
      "Quack! Quack!\n"
     ]
    }
   ],
   "source": [
    "\n",
    "class Flying:\n",
    "    def fly(self):\n",
    "        print(\"I can fly high in the sky!\")\n",
    "\n",
    "\n",
    "class Swimming:\n",
    "    def swim(self):\n",
    "        print(\"I can swim effortlessly in the water!\")\n",
    "\n",
    "class Duck(Flying, Swimming):\n",
    "    def quack(self):\n",
    "        print(\"Quack! Quack!\")\n",
    "\n",
    "\n",
    "donald = Duck()\n",
    "donald.fly()\n",
    "donald.swim()\n",
    "donald.quack()\n",
    "\n",
    "    "
   ]
  },
  {
   "cell_type": "raw",
   "id": "0f23f804-8acf-41b7-ac02-0438c007d5f6",
   "metadata": {},
   "source": [
    "\n",
    "5.) Define class `A` with a method `method_A`, and class `E` with a method `method_E`. Create class `B` inheriting from `A` with a method `method_B`, and class `C` inheriting from `A` and `E` with a method `method_C`. Define class `D` inheriting from both `B` and `C` with a method `method_D`. Instantiate a `D` object and call all its methods."
   ]
  },
  {
   "cell_type": "code",
   "execution_count": 22,
   "id": "305af109-72e4-41a6-b3da-aad3ac4e794d",
   "metadata": {},
   "outputs": [
    {
     "name": "stdout",
     "output_type": "stream",
     "text": [
      "Method A from class A\n",
      "Method E from class E\n",
      "Method B from class B\n",
      "Method C from class C\n",
      "Method D from class D\n"
     ]
    }
   ],
   "source": [
    "\n",
    "class A:\n",
    "    def method_A(self):\n",
    "        print(\"Method A from class A\")\n",
    "\n",
    "class E:\n",
    "    def method_E(self):\n",
    "        print(\"Method E from class E\")\n",
    "\n",
    "class B(A):\n",
    "    def method_B(self):\n",
    "        print(\"Method B from class B\")\n",
    "\n",
    "\n",
    "class C(A, E):\n",
    "    def method_C(self):\n",
    "        print(\"Method C from class C\")\n",
    "\n",
    "\n",
    "class D(B, C):\n",
    "    def method_D(self):\n",
    "        print(\"Method D from class D\")\n",
    "\n",
    "\n",
    "obj = D()\n",
    "\n",
    "obj.method_A()\n",
    "obj.method_E()\n",
    "obj.method_B()\n",
    "obj.method_C()\n",
    "obj.method_D()\n"
   ]
  },
  {
   "cell_type": "code",
   "execution_count": null,
   "id": "79400a01-4d93-4f11-8385-4fc4b1c15282",
   "metadata": {},
   "outputs": [],
   "source": []
  }
 ],
 "metadata": {
  "kernelspec": {
   "display_name": "Python 3 (ipykernel)",
   "language": "python",
   "name": "python3"
  },
  "language_info": {
   "codemirror_mode": {
    "name": "ipython",
    "version": 3
   },
   "file_extension": ".py",
   "mimetype": "text/x-python",
   "name": "python",
   "nbconvert_exporter": "python",
   "pygments_lexer": "ipython3",
   "version": "3.12.7"
  }
 },
 "nbformat": 4,
 "nbformat_minor": 5
}
