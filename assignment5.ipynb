{
 "cells": [
  {
   "cell_type": "raw",
   "id": "e96e82f1-dc8c-433e-8bde-54d9c22ae304",
   "metadata": {},
   "source": [
    "Question 1: If Statements\n",
    "Write an if statement to compare two variables, a and b. If b is greater than a, print a message saying \"b is greater than a\".\n"
   ]
  },
  {
   "cell_type": "code",
   "execution_count": 2,
   "id": "d9f7b015-f5d9-44c7-b757-fd891ce9009d",
   "metadata": {},
   "outputs": [
    {
     "name": "stdout",
     "output_type": "stream",
     "text": [
      "99 is greater than  44\n"
     ]
    }
   ],
   "source": [
    "a=44\n",
    "b=99\n",
    "if (a>b):\n",
    "    print(a, \"is greater than \",b)\n",
    "else:\n",
    "    print(b, \"is greater than \" ,a)\n"
   ]
  },
  {
   "cell_type": "raw",
   "id": "070cdbb2-b01f-4c27-b928-2b092b1574a4",
   "metadata": {},
   "source": [
    "Question 2: If-Else Statements\n",
    "Write an if-else statement to compare two variables, a and b. If b is greater than a, print \"b is greater than a\". Otherwise, print \"a and b are equal\".\n"
   ]
  },
  {
   "cell_type": "code",
   "execution_count": 3,
   "id": "4236165a-0edf-4dbe-996d-c1fddabbcafd",
   "metadata": {},
   "outputs": [
    {
     "name": "stdout",
     "output_type": "stream",
     "text": [
      "a and b are equal\n"
     ]
    }
   ],
   "source": [
    "a=44\n",
    "b=44\n",
    "if (a>b):\n",
    "    print(\"a is greater  than b\")\n",
    "elif(a==b):\n",
    "    print(\"a and b are equal\")\n",
    "else:\n",
    "    print(\" b is greater than a\")"
   ]
  },
  {
   "cell_type": "raw",
   "id": "af88c06a-dee4-4395-9d4d-ab24c6345644",
   "metadata": {},
   "source": [
    "\n",
    "Question 3: If-Elif-Else Statements\n",
    "Write an if-elif-else statement to compare two variables, a and b. If b is greater than a, print \"b is greater than a\". If a and b are equal, print \"a and b are equal\". Otherwise, print \"a is greater than b\"."
   ]
  },
  {
   "cell_type": "code",
   "execution_count": 4,
   "id": "8ac6721b-113e-46fa-8b4f-c6d8a70603cb",
   "metadata": {},
   "outputs": [
    {
     "name": "stdout",
     "output_type": "stream",
     "text": [
      "b is greater than a\n"
     ]
    }
   ],
   "source": [
    "\n",
    "a = 10\n",
    "b = 15\n",
    "\n",
    "if b > a:\n",
    "    print(\"b is greater than a\")\n",
    "elif a == b:\n",
    "    print(\"a and b are equal\")\n",
    "else:\n",
    "    print(\"a is greater than b\")\n"
   ]
  },
  {
   "cell_type": "raw",
   "id": "8d32a6f8-519b-4fd5-9087-4e0f9cb0ca19",
   "metadata": {},
   "source": [
    "Question 4: Create and Access Tuple\n",
    "Create a tuple with the elements (\"apple\", \"banana\", \"cherry\"). Access and print the second element of the tuple.\n"
   ]
  },
  {
   "cell_type": "code",
   "execution_count": 5,
   "id": "57baed86-628b-4c5e-9b7d-b824ebe4b927",
   "metadata": {},
   "outputs": [
    {
     "name": "stdout",
     "output_type": "stream",
     "text": [
      "('apple', 'banana', 'cherry')\n",
      "banana\n"
     ]
    }
   ],
   "source": [
    "fruit=(\"apple\", \"banana\", \"cherry\")\n",
    "print(fruit)\n",
    "print(fruit[1])"
   ]
  },
  {
   "cell_type": "raw",
   "id": "54262572-e1e2-433d-b99f-f7ff62ea6a87",
   "metadata": {},
   "source": [
    "Question 5: Tuple with One Item\n",
    "Create a tuple with a single item \"apple\". Print the type of the tuple to confirm it's a tuple."
   ]
  },
  {
   "cell_type": "code",
   "execution_count": 7,
   "id": "89669d7a-46f6-4315-9d0c-33791e98712f",
   "metadata": {},
   "outputs": [
    {
     "data": {
      "text/plain": [
       "tuple"
      ]
     },
     "execution_count": 7,
     "metadata": {},
     "output_type": "execute_result"
    }
   ],
   "source": [
    "fruit=(\"apple\",)\n",
    "type(fruit)"
   ]
  },
  {
   "cell_type": "raw",
   "id": "de9ddb64-8df0-4292-938e-18f8e8ec8fb2",
   "metadata": {},
   "source": [
    "Question 6: Check if Item Exists in Tuple\n",
    "Create a tuple with the elements (\"apple\", \"banana\", \"cherry\"). Check if the item \"apple\" exists in the tuple and print the result.\n"
   ]
  },
  {
   "cell_type": "code",
   "execution_count": 14,
   "id": "96ed0ee6-aa7e-41bf-9d39-5194769d37c5",
   "metadata": {},
   "outputs": [
    {
     "name": "stdout",
     "output_type": "stream",
     "text": [
      "apple\n"
     ]
    }
   ],
   "source": [
    "fruit=(\"apple\", \"banana\", \"cherry\")\n",
    "if \"apple\"  in fruit:\n",
    "    print(\"apple\")"
   ]
  },
  {
   "cell_type": "raw",
   "id": "cb141811-f00b-4ae1-b4bd-347fad93e0ee",
   "metadata": {},
   "source": [
    "Question 7: Convert Tuple to List and Modify\n",
    "Convert a tuple (\"apple\", \"banana\", \"cherry\") to a list. Change the second item to \"kiwi\" and convert it back to a tuple. Print the modified tuple.\n"
   ]
  },
  {
   "cell_type": "code",
   "execution_count": 19,
   "id": "7a33f13e-df96-43e2-b16c-4f4f038c9d9a",
   "metadata": {},
   "outputs": [
    {
     "name": "stdout",
     "output_type": "stream",
     "text": [
      "('apple', 'kiwi', 'cherry')\n"
     ]
    }
   ],
   "source": [
    "fruit=(\"apple\", \"banana\", \"cherry\")\n",
    "fruits=list(fruit)\n",
    "fruits[1]=\"kiwi\"\n",
    "fruit=tuple(fruits)\n",
    "print(fruit)"
   ]
  },
  {
   "cell_type": "raw",
   "id": "f25f33c9-eb73-4c4f-bfa0-d7964c82a170",
   "metadata": {},
   "source": [
    "Question 8: Add and Remove Items from Set\n",
    "Create a set with the elements {\"apple\", \"banana\", \"cherry\"}. Add \"orange\" to the set and remove \"banana\". Print the modified set.\n"
   ]
  },
  {
   "cell_type": "code",
   "execution_count": 21,
   "id": "0d2edb0e-b6b2-4f77-8def-82993fa03b97",
   "metadata": {},
   "outputs": [
    {
     "name": "stdout",
     "output_type": "stream",
     "text": [
      "{'cherry', 'apple', 'orange'}\n"
     ]
    }
   ],
   "source": [
    "s1={\"apple\", \"banana\", \"cherry\"}\n",
    "s1.remove(\"banana\")\n",
    "s1.add(\"orange\")\n",
    "print(s1)"
   ]
  },
  {
   "cell_type": "raw",
   "id": "ba228e45-6849-48ba-8ce5-9caefb310ac4",
   "metadata": {},
   "source": [
    "Question 9: Loop Through Tuple\n",
    "Create a tuple with the elements (\"apple\", \"banana\", \"cherry\"). Use a for loop to print each item in the tuple.\n"
   ]
  },
  {
   "cell_type": "code",
   "execution_count": 22,
   "id": "f3e5ab06-42d0-47fb-8618-1937147a7f2a",
   "metadata": {},
   "outputs": [
    {
     "name": "stdout",
     "output_type": "stream",
     "text": [
      "apple\n",
      "banana\n",
      "cherry\n"
     ]
    }
   ],
   "source": [
    "fruit=(\"apple\", \"banana\", \"cherry\")\n",
    "for i in fruit:\n",
    "    print(i)"
   ]
  },
  {
   "cell_type": "raw",
   "id": "9a3095d3-06e1-4b29-a48d-60c68bdf163c",
   "metadata": {},
   "source": [
    "Question 10:\n",
    "Create a set with the elements {\"apple\", \"banana\", \"cherry\"}. Update it with another set {\"pineapple\", \"mango\", \"papaya\"} and a list [\"kiwi\", \"orange\"]. Print the updated set."
   ]
  },
  {
   "cell_type": "code",
   "execution_count": 28,
   "id": "5d5bb411-0518-413f-92cc-921e3738d577",
   "metadata": {},
   "outputs": [
    {
     "name": "stdout",
     "output_type": "stream",
     "text": [
      "{'kiwi', 'banana', 'apple', 'papaya', 'pineapple', 'cherry', 'mango', 'orange'}\n"
     ]
    }
   ],
   "source": [
    "s1={\"apple\", \"banana\", \"cherry\"}\n",
    "s2={\"pineapple\", \"mango\", \"papaya\"}\n",
    "s3= [\"kiwi\", \"orange\"]\n",
    "s1.update(s2)\n",
    "s1.update(s3)\n",
    "print(s1)\n",
    "\n"
   ]
  },
  {
   "cell_type": "code",
   "execution_count": null,
   "id": "c624effd-b255-496e-9c66-9ec13404788d",
   "metadata": {},
   "outputs": [],
   "source": []
  }
 ],
 "metadata": {
  "kernelspec": {
   "display_name": "Python 3 (ipykernel)",
   "language": "python",
   "name": "python3"
  },
  "language_info": {
   "codemirror_mode": {
    "name": "ipython",
    "version": 3
   },
   "file_extension": ".py",
   "mimetype": "text/x-python",
   "name": "python",
   "nbconvert_exporter": "python",
   "pygments_lexer": "ipython3",
   "version": "3.12.7"
  }
 },
 "nbformat": 4,
 "nbformat_minor": 5
}
