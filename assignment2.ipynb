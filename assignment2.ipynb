{
 "cells": [
  {
   "cell_type": "markdown",
   "id": "dd6250dc-a919-4ff4-8bee-98ff5bc4c4fc",
   "metadata": {},
   "source": [
    "Question.1- Create a variable `city` and assign the name of your favorite city to it. Print the variable.\n",
    "\n",
    "\n"
   ]
  },
  {
   "cell_type": "code",
   "execution_count": 2,
   "id": "3f103cce-7f19-46aa-99bd-fae317a0b765",
   "metadata": {},
   "outputs": [
    {
     "name": "stdout",
     "output_type": "stream",
     "text": [
      "Jaipur\n"
     ]
    }
   ],
   "source": [
    "city=\"Jaipur\"\n",
    "print(city)"
   ]
  },
  {
   "cell_type": "markdown",
   "id": "d45d78ab-d159-4271-ae36-ec2ac8d03dc9",
   "metadata": {},
   "source": [
    "Question.2. Print the data type of the variable `city`.\n",
    "\n",
    "\n"
   ]
  },
  {
   "cell_type": "code",
   "execution_count": 5,
   "id": "d529b08f-265d-4b3a-a0de-1d8b5c5aebc3",
   "metadata": {},
   "outputs": [
    {
     "name": "stdout",
     "output_type": "stream",
     "text": [
      "<class 'str'>\n"
     ]
    }
   ],
   "source": [
    "city=\"Jaipur\"\n",
    "print(type(city))"
   ]
  },
  {
   "cell_type": "markdown",
   "id": "4ff8cbe4-83f6-4817-b9c9-886d0c8b9b05",
   "metadata": {},
   "source": [
    "Question.3. Convert the integer `42` to a string and assign it to a new variable. Print the new variable.\n",
    "\n"
   ]
  },
  {
   "cell_type": "code",
   "execution_count": 8,
   "id": "56ac2930-b2e4-434f-9536-3a462efd0575",
   "metadata": {},
   "outputs": [
    {
     "name": "stdout",
     "output_type": "stream",
     "text": [
      "42\n",
      "<class 'str'>\n"
     ]
    }
   ],
   "source": [
    "a=42 #integer\n",
    "b=str(a) #typecasting\n",
    "print(b)\n",
    "print(type(b))"
   ]
  },
  {
   "cell_type": "markdown",
   "id": "b7f14085-bd88-4e32-942d-0a7f3075f454",
   "metadata": {},
   "source": [
    "Question.4. Use len() on your name variable and count lenght of your name"
   ]
  },
  {
   "cell_type": "code",
   "execution_count": 9,
   "id": "6b1f3144-6aae-41f5-a04f-72b1ae6f36de",
   "metadata": {},
   "outputs": [
    {
     "name": "stdout",
     "output_type": "stream",
     "text": [
      "5\n"
     ]
    }
   ],
   "source": [
    "name=\"Suraj\"\n",
    "print(len(name))"
   ]
  },
  {
   "cell_type": "markdown",
   "id": "f3e462a8-b555-4daa-a5ea-e59c1eacf176",
   "metadata": {},
   "source": [
    "Question.5. use \" if \" statement to to check \"code\" word exist or not in \" code square\""
   ]
  },
  {
   "cell_type": "code",
   "execution_count": 10,
   "id": "db4606ac-1b5c-4ff5-8deb-94472b20778d",
   "metadata": {},
   "outputs": [
    {
     "name": "stdout",
     "output_type": "stream",
     "text": [
      "True\n"
     ]
    }
   ],
   "source": [
    "name=\"code square\"\n",
    "if \"code\" in name:\n",
    "    print(\"code\" in name)"
   ]
  },
  {
   "cell_type": "code",
   "execution_count": null,
   "id": "8a406f2c-0b78-4c5b-a2cc-52be61f04842",
   "metadata": {},
   "outputs": [],
   "source": []
  }
 ],
 "metadata": {
  "kernelspec": {
   "display_name": "Python 3 (ipykernel)",
   "language": "python",
   "name": "python3"
  },
  "language_info": {
   "codemirror_mode": {
    "name": "ipython",
    "version": 3
   },
   "file_extension": ".py",
   "mimetype": "text/x-python",
   "name": "python",
   "nbconvert_exporter": "python",
   "pygments_lexer": "ipython3",
   "version": "3.12.7"
  }
 },
 "nbformat": 4,
 "nbformat_minor": 5
}
